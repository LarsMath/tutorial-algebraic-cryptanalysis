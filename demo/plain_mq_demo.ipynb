{
 "cells": [
  {
   "cell_type": "code",
   "execution_count": null,
   "id": "35801114",
   "metadata": {},
   "outputs": [],
   "source": [
    "# This generates a random MQ problem in the Ring R = F[x1, ..., xn] of m quadratic equations.\n",
    "# Note the field F and number of variables n are already defined by R.\n",
    "def generate_MQ_problem(R, m):\n",
    "    F = R.base_ring()\n",
    "    quadratic_monomials = R.monomials_of_degree(2)\n",
    "    linear_monomials = R.monomials_of_degree(1)\n",
    "    monomials = quadratic_monomials + linear_monomials\n",
    "\n",
    "    # Generate random polynomials\n",
    "    fs = [sum(F.random_element() * mon for mon in monomials) for _ in range(m)]\n",
    "\n",
    "    # Generate random solution\n",
    "    solution = [F.random_element() for _ in range(n)]\n",
    "\n",
    "    # Change the constant to match the solution\n",
    "    fs = [f - f(solution) for f in fs]\n",
    "\n",
    "    return fs, solution"
   ]
  },
  {
   "cell_type": "code",
   "execution_count": null,
   "id": "aa20c9ec",
   "metadata": {},
   "outputs": [],
   "source": [
    "q = 7\n",
    "n = 12\n",
    "m = 26\n",
    "\n",
    "F = GF(q)\n",
    "R = PolynomialRing(F, n, 'x', order=\"degrevlex\")\n",
    "R"
   ]
  },
  {
   "cell_type": "code",
   "execution_count": null,
   "id": "2b6523e3",
   "metadata": {},
   "outputs": [],
   "source": [
    "system, _ = generate_MQ_problem(R, m)\n",
    "system[0]"
   ]
  },
  {
   "cell_type": "code",
   "execution_count": null,
   "id": "98d2b378",
   "metadata": {},
   "outputs": [],
   "source": [
    "R.ideal(system).variety()"
   ]
  },
  {
   "cell_type": "code",
   "execution_count": null,
   "id": "94c07419",
   "metadata": {},
   "outputs": [],
   "source": [
    "solutions = []\n",
    "for y in F:\n",
    "    solutions += R.ideal(system + [R.gens()[0] - y]).variety()\n",
    "print(solutions)"
   ]
  }
 ],
 "metadata": {
  "kernelspec": {
   "display_name": "SageMath 10.6",
   "language": "sage",
   "name": "sagemath"
  },
  "language_info": {
   "codemirror_mode": {
    "name": "ipython",
    "version": 3
   },
   "file_extension": ".py",
   "mimetype": "text/x-python",
   "name": "python",
   "nbconvert_exporter": "python",
   "pygments_lexer": "ipython3",
   "version": "3.12.11"
  }
 },
 "nbformat": 4,
 "nbformat_minor": 5
}
