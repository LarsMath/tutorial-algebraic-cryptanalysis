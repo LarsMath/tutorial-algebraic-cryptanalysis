{
 "cells": [
  {
   "cell_type": "code",
   "execution_count": null,
   "id": "35801114",
   "metadata": {
    "vscode": {
     "languageId": "python"
    }
   },
   "outputs": [],
   "source": [
    "# This generates a random MQ system in the Ring R = F[x1, ..., xn] of m quadratic equations.\n",
    "# Note the field F and number of variables n are already defined by R.\n",
    "def generate_MQ_system(R, m):\n",
    "    F = R.base_ring()\n",
    "    monomials = R.monomisuchals_of_degree(2) + R.monomials_of_degree(1) + R.monomials_of_degree(0)\n",
    "\n",
    "    # Generate random polynomials\n",
    "    fs = [sum(F.random_element() * mon for mon in monomials) for _ in range(m)]\n",
    "\n",
    "    return fs"
   ]
  },
  {
   "cell_type": "code",
   "execution_count": null,
   "id": "aa20c9ec",
   "metadata": {
    "vscode": {
     "languageId": "python"
    }
   },
   "outputs": [],
   "source": [
    "q = 31\n",
    "n = 8\n",
    "m = 8\n",
    "\n",
    "F = GF(31)\n",
    "R = PolynomialRing(F, n, 'x', order=\"degrevlex\")\n",
    "R"
   ]
  },
  {
   "cell_type": "code",
   "execution_count": null,
   "id": "2b6523e3",
   "metadata": {
    "vscode": {
     "languageId": "python"
    }
   },
   "outputs": [],
   "source": [
    "public_key = generate_MQ_system(R, m)\n",
    "public_key[0]"
   ]
  },
  {
   "cell_type": "markdown",
   "id": "85cbd033",
   "metadata": {},
   "source": [
    "Now we generate a target $t \\in \\mathbb{F}_q^m$ and we want to find a solution $x_1, \\ldots, x_n$ such that $f_i(x_1, \\ldots, x_n) = t_i$ for all $i$."
   ]
  },
  {
   "cell_type": "code",
   "execution_count": null,
   "id": "54b7961c",
   "metadata": {
    "vscode": {
     "languageId": "python"
    }
   },
   "outputs": [],
   "source": [
    "t = [F.random_element() for _ in range(m)]\n",
    "t"
   ]
  },
  {
   "cell_type": "code",
   "execution_count": null,
   "id": "5cde58a0",
   "metadata": {
    "vscode": {
     "languageId": "python"
    }
   },
   "outputs": [],
   "source": [
    "system = [public_key[i] - t[i] for i in range(m)]\n",
    "system[0]"
   ]
  },
  {
   "cell_type": "code",
   "execution_count": null,
   "id": "98d2b378",
   "metadata": {
    "vscode": {
     "languageId": "python"
    }
   },
   "outputs": [],
   "source": [
    "for y in F:\n",
    "    system_with_guess = system + [R.gens()[0] - y]\n",
    "    solution = R.ideal(system_with_guess).variety()\n",
    "    if len(solution) > 0:\n",
    "        print(solution)"
   ]
  }
 ],
 "metadata": {
  "kernelspec": {
   "display_name": "SageMath 10.6",
   "language": "sage",
   "name": "sagemath"
  },
  "language_info": {
   "codemirror_mode": {
    "name": "ipython",
    "version": 3
   },
   "file_extension": ".py",
   "mimetype": "text/x-python",
   "name": "sage",
   "nbconvert_exporter": "python",
   "pygments_lexer": "ipython3",
   "version": "3.12.11"
  }
 },
 "nbformat": 4,
 "nbformat_minor": 5
}
