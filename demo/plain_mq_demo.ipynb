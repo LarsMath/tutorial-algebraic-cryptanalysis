{
 "cells": [
  {
   "cell_type": "code",
   "execution_count": 1,
   "id": "35801114",
   "metadata": {},
   "outputs": [],
   "source": [
    "# This generates a random MQ problem in the Ring R = F[x1, ..., xn] of m quadratic equations.\n",
    "# Note the field F and number of variables n are already defined by R.\n",
    "def generate_MQ_problem(R, m):\n",
    "    F = R.base_ring()\n",
    "    quadratic_monomials = R.monomials_of_degree(2)\n",
    "    linear_monomials = R.monomials_of_degree(1)\n",
    "    monomials = quadratic_monomials + linear_monomials\n",
    "\n",
    "    # Generate random polynomials\n",
    "    fs = [sum(F.random_element() * mon for mon in monomials) for _ in range(m)]\n",
    "\n",
    "    # Generate random solution\n",
    "    solution = [F.random_element() for _ in range(n)]\n",
    "\n",
    "    # Change the constant to match the solution\n",
    "    fs = [f - f(solution) for f in fs]\n",
    "\n",
    "    return fs, solution"
   ]
  },
  {
   "cell_type": "code",
   "execution_count": 2,
   "id": "aa20c9ec",
   "metadata": {},
   "outputs": [
    {
     "data": {
      "text/plain": [
       "Multivariate Polynomial Ring in x0, x1, x2, x3, x4, x5, x6, x7, x8, x9 over Finite Field of size 31"
      ]
     },
     "execution_count": 2,
     "metadata": {},
     "output_type": "execute_result"
    }
   ],
   "source": [
    "q = 31\n",
    "n = 10\n",
    "m = 20\n",
    "\n",
    "F = GF(31)\n",
    "R = PolynomialRing(F, n, 'x', order=\"degrevlex\")\n",
    "R"
   ]
  },
  {
   "cell_type": "code",
   "execution_count": 3,
   "id": "2b6523e3",
   "metadata": {},
   "outputs": [
    {
     "data": {
      "text/plain": [
       "-x0^2 + 14*x0*x1 + 8*x1^2 + 2*x0*x2 - 15*x1*x2 - 15*x2^2 + 5*x0*x3 + 5*x1*x3 - 15*x3^2 + 6*x0*x4 + 13*x1*x4 + 6*x2*x4 + 11*x3*x4 - 2*x4^2 + 6*x0*x5 + x1*x5 + 10*x2*x5 + 14*x3*x5 - 9*x4*x5 - 9*x5^2 + x0*x6 - 10*x1*x6 + 7*x2*x6 + 10*x3*x6 - 10*x4*x6 + 7*x5*x6 - 7*x6^2 + 5*x0*x7 - 12*x1*x7 + 9*x2*x7 - 3*x3*x7 + 2*x4*x7 - 13*x5*x7 + 10*x7^2 - 2*x0*x8 + 9*x1*x8 + 8*x2*x8 - 11*x3*x8 - x4*x8 - 10*x5*x8 - 7*x7*x8 - 10*x8^2 + 6*x0*x9 - 7*x1*x9 + 2*x2*x9 + 8*x3*x9 - 9*x4*x9 - 9*x6*x9 + 8*x7*x9 + 9*x8*x9 - 7*x9^2 - 6*x0 + 5*x1 - 3*x2 + 4*x3 + 9*x4 - 4*x5 - 10*x6 + 5*x7 + 10*x8 + x9 + 8"
      ]
     },
     "execution_count": 3,
     "metadata": {},
     "output_type": "execute_result"
    }
   ],
   "source": [
    "system, _ = generate_MQ_problem(R, m)\n",
    "system[0]"
   ]
  },
  {
   "cell_type": "code",
   "execution_count": 4,
   "id": "98d2b378",
   "metadata": {},
   "outputs": [
    {
     "data": {
      "text/plain": [
       "[{x9: 25, x8: 18, x7: 12, x6: 5, x5: 1, x4: 22, x3: 7, x2: 12, x1: 0, x0: 13}]"
      ]
     },
     "execution_count": 4,
     "metadata": {},
     "output_type": "execute_result"
    }
   ],
   "source": [
    "R.ideal(system).variety()"
   ]
  }
 ],
 "metadata": {
  "kernelspec": {
   "display_name": "SageMath 10.6",
   "language": "sage",
   "name": "sagemath"
  },
  "language_info": {
   "codemirror_mode": {
    "name": "ipython",
    "version": 3
   },
   "file_extension": ".py",
   "mimetype": "text/x-python",
   "name": "python",
   "nbconvert_exporter": "python",
   "pygments_lexer": "ipython3",
   "version": "3.12.11"
  }
 },
 "nbformat": 4,
 "nbformat_minor": 5
}
