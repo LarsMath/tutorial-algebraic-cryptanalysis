{
 "cells": [
  {
   "cell_type": "markdown",
   "id": "26fc03a6",
   "metadata": {},
   "source": [
    "# Breaking 3-Tensor Isomorphism using algebraic cryptanalysis"
   ]
  },
  {
   "cell_type": "code",
   "execution_count": null,
   "id": "0add1fed",
   "metadata": {},
   "outputs": [],
   "source": [
    "# This method applies the transformation (A, B, T) to the 3-tensor C and returns the resulting tensor D\n",
    "# It is assumed that A, B, T are square and that all the dimensions check out\n",
    "# Feel free to use this method in your solution!\n",
    "def apply_transformation(C, A, B, T):\n",
    "    F = C[0][0][0].parent()\n",
    "    n = len(C)\n",
    "    m = len(C[0])\n",
    "    k = len(C[0][0])\n",
    "\n",
    "    # Sage computes the transformation faster via a matrix multiplication than via a triple for loop, we use this to our advantage\n",
    "    D_matrix_form = [sum(A[i1][i2] * matrix(F, m, m, B).transpose() * matrix(F, m, k, C[i1]) * matrix(F, k, k, T) for i1 in range(n)) for i2 in range(n)]\n",
    "    return [[[D_matrix_form[i][j][l] for l in range(k)] for j in range(m)] for i in range(n)]"
   ]
  },
  {
   "cell_type": "code",
   "execution_count": null,
   "id": "e3b58c2a",
   "metadata": {},
   "outputs": [],
   "source": [
    "# Generate a random 3-TI problem\n",
    "# Doing the construction this way, we are sure that a solution exists\n",
    "# It might not be unique however!\n",
    "def generate_3ti_problem(F, n, m, k):\n",
    "\n",
    "    # Generate the secret transformation\n",
    "    A = random_matrix(F, n, n)\n",
    "    B = random_matrix(F, m, m)\n",
    "    T = random_matrix(F, k, k)\n",
    "    while A.is_singular() or B.is_singular() or T.is_singular(): # Make sure we are working with invertible matrices\n",
    "        A = random_matrix(F, n, n)\n",
    "        B = random_matrix(F, m, m)\n",
    "        T = random_matrix(F, k, k)\n",
    "    \n",
    "    # Generating C randomly\n",
    "    C = [[[F.random_element() for _ in range(k)] for _ in range(m)] for _ in range(n)]\n",
    "\n",
    "    # Apply secret transformation to C to ensure solution\n",
    "    D = apply_transformation(C, A, B, T)\n",
    "\n",
    "    return C, D"
   ]
  },
  {
   "cell_type": "markdown",
   "id": "7060cfc0",
   "metadata": {},
   "source": [
    "## Your solution"
   ]
  },
  {
   "cell_type": "code",
   "execution_count": null,
   "id": "2085349e",
   "metadata": {},
   "outputs": [],
   "source": [
    "# This method takes two tensors (and some auxiliary information) and returns the transformation that transforms C to D\n",
    "# Be sure to read instructions.md for some guiding questions\n",
    "def break_3TI(F, C, D, n, m, k):\n",
    "    # Your code here\n",
    "    return random_matrix(F, n, n), random_matrix(F, m, m), random_matrix(F, k, k)"
   ]
  },
  {
   "cell_type": "markdown",
   "id": "83df97bf",
   "metadata": {},
   "source": [
    "## Test time"
   ]
  },
  {
   "cell_type": "code",
   "execution_count": 38,
   "id": "22be6886",
   "metadata": {},
   "outputs": [],
   "source": [
    "# This method checks whether your solution is correct\n",
    "# Since the problem might have multiple solutions we just check if it is a valid transformation\n",
    "# It does not necessarily have to be the same one that was discarded during generation\n",
    "# In the end, this is what is cryptographically relevant as well!\n",
    "def check_solution(C, D, A, B, T):\n",
    "    F = C[0][0][0].parent()\n",
    "    n = len(C)\n",
    "    m = len(C[0])\n",
    "    k = len(C[0][0])\n",
    "\n",
    "    assert A.is_square() and B.is_square() and T.is_square() and A.nrows() == n and B.nrows() == m and T.nrows() == k\n",
    "    \n",
    "    return D == apply_transformation(C, A, B, T)"
   ]
  },
  {
   "cell_type": "code",
   "execution_count": null,
   "id": "5e4a66b9",
   "metadata": {},
   "outputs": [
    {
     "data": {
      "text/plain": [
       "False"
      ]
     },
     "execution_count": 40,
     "metadata": {},
     "output_type": "execute_result"
    }
   ],
   "source": [
    "# Feel free to pick any parameters you want!\n",
    "q = 31\n",
    "n = 5\n",
    "m = 4\n",
    "k = 3\n",
    "\n",
    "# It should not be necessary to edit the calls below\n",
    "# If you do, make sure you do not accidently use the solution\n",
    "F = GF(q)\n",
    "C, D = generate_3ti_problem(F, n, m, k)\n",
    "A, B, T = break_3TI(F, C, D, n, m, k)\n",
    "check_solution(C, D, A, B, T)"
   ]
  }
 ],
 "metadata": {
  "kernelspec": {
   "display_name": "SageMath 10.6",
   "language": "sage",
   "name": "sagemath"
  },
  "language_info": {
   "codemirror_mode": {
    "name": "ipython",
    "version": 3
   },
   "file_extension": ".py",
   "mimetype": "text/x-python",
   "name": "python",
   "nbconvert_exporter": "python",
   "pygments_lexer": "ipython3",
   "version": "3.12.11"
  }
 },
 "nbformat": 4,
 "nbformat_minor": 5
}
