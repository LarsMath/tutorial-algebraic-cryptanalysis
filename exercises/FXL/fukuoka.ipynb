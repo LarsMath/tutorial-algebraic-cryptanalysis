{
 "cells": [
  {
   "cell_type": "code",
   "execution_count": null,
   "id": "2f3ac66f",
   "metadata": {
    "vscode": {
     "languageId": "python"
    }
   },
   "outputs": [],
   "source": [
    "def to_fukuoka_challenge_format(fs, R):\n",
    "    q = len(R.base_ring())\n",
    "    n = len(R.gens())\n",
    "    m = len(fs)\n",
    "    monomials = sorted(R.monomials_of_degree(2) +  R.monomials_of_degree(1) +  R.monomials_of_degree(0))[::-1]\n",
    "    challenge = [[f.monomial_coefficient(mon) for mon in monomials] for f in fs]\n",
    "    return q, n, m, challenge"
   ]
  },
  {
   "cell_type": "code",
   "execution_count": null,
   "id": "ae61deb5",
   "metadata": {
    "vscode": {
     "languageId": "python"
    }
   },
   "outputs": [],
   "source": [
    "def from_fukuoka_challenge_format(q, n, m, challenge):\n",
    "    assert len(challenge) == m and len(challenge[0]) == binomial(n+2, 2) # assert correct challenge size compared to n, m\n",
    "    F = GF(q)\n",
    "    R = PolynomialRing(F, n, 'x', order=\"degrevlex\")\n",
    "    monomials = sorted(R.monomials_of_degree(2) +  R.monomials_of_degree(1) +  R.monomials_of_degree(0))[::-1]\n",
    "\n",
    "    fs = [sum(coef * mon for (coef, mon) in zip(row, monomials)) for row in challenge]\n",
    "\n",
    "    return fs, R"
   ]
  },
  {
   "cell_type": "code",
   "execution_count": null,
   "id": "4ff9acfd",
   "metadata": {
    "vscode": {
     "languageId": "python"
    }
   },
   "outputs": [],
   "source": [
    "# Example\n",
    "\n",
    "challenge = [[29,20,25,28,4,7,10,28,8,13,14,29,19,30,8],\n",
    "[24,20,3,27,25,28,30,3,23,6,23,25,3,2,18],\n",
    "[4,29,29,31,0,19,7,24,18,8,9,23,24,8,27],\n",
    "[28,4,4,4,17,16,3,25,14,2,1,6,30,8,16],\n",
    "[6,1,11,17,3,1,14,14,6,29,3,23,27,18,22],\n",
    "[25,19,7,0,1,14,28,27,6,11,13,26,29,14,24],\n",
    "[12,21,28,2,21,25,0,12,1,29,27,7,23,23,14],\n",
    "[1,28,21,15,11,30,23,7,9,26,10,29,2,0,7]]\n",
    "\n",
    "fs, R = from_fukuoka_challenge_format(31, 4, 8, challenge)"
   ]
  }
 ],
 "metadata": {
  "kernelspec": {
   "display_name": "SageMath 10.6",
   "language": "sage",
   "name": "sagemath"
  },
  "language_info": {
   "codemirror_mode": {
    "name": "ipython",
    "version": 3
   },
   "file_extension": ".py",
   "mimetype": "text/x-python",
   "name": "sage",
   "nbconvert_exporter": "python",
   "pygments_lexer": "ipython3",
   "version": "3.12.11"
  }
 },
 "nbformat": 4,
 "nbformat_minor": 5
}
