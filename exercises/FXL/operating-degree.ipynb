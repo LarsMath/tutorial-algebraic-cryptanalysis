{
 "cells": [
  {
   "cell_type": "code",
   "execution_count": 1,
   "id": "e9da5bf9",
   "metadata": {},
   "outputs": [],
   "source": [
    "def predict_operating_degree_MQ(n, m):\n",
    "    return next(d for d in range(2,n+2) if sum((-1)^i * binomial(m, i) * binomial(n + d - 2*i, d- 2*i) for i in range(d+1)) <= 0)"
   ]
  },
  {
   "cell_type": "code",
   "execution_count": 6,
   "id": "d0a6c502",
   "metadata": {},
   "outputs": [
    {
     "name": "stdout",
     "output_type": "stream",
     "text": [
      "n: 2, m: 30, D: 2\n",
      "n: 3, m: 30, D: 2\n",
      "n: 4, m: 30, D: 2\n",
      "n: 5, m: 30, D: 2\n",
      "n: 6, m: 30, D: 2\n",
      "n: 7, m: 30, D: 3\n",
      "n: 8, m: 30, D: 3\n",
      "n: 9, m: 30, D: 3\n",
      "n: 10, m: 30, D: 3\n",
      "n: 11, m: 30, D: 4\n",
      "n: 12, m: 30, D: 4\n",
      "n: 13, m: 30, D: 4\n",
      "n: 14, m: 30, D: 4\n",
      "n: 15, m: 30, D: 5\n",
      "n: 16, m: 30, D: 5\n",
      "n: 17, m: 30, D: 5\n",
      "n: 18, m: 30, D: 6\n",
      "n: 19, m: 30, D: 6\n",
      "n: 20, m: 30, D: 7\n",
      "n: 21, m: 30, D: 8\n",
      "n: 22, m: 30, D: 8\n",
      "n: 23, m: 30, D: 9\n",
      "n: 24, m: 30, D: 10\n",
      "n: 25, m: 30, D: 11\n",
      "n: 26, m: 30, D: 12\n",
      "n: 27, m: 30, D: 14\n",
      "n: 28, m: 30, D: 16\n"
     ]
    }
   ],
   "source": [
    "m = 30\n",
    "for n in range(2, m-1):\n",
    "    print(\"n: {}, m: {}, D: {}\".format(n, m, predict_operating_degree_MQ(n, m)))"
   ]
  },
  {
   "cell_type": "code",
   "execution_count": null,
   "id": "90e2fdc9",
   "metadata": {},
   "outputs": [],
   "source": []
  }
 ],
 "metadata": {
  "kernelspec": {
   "display_name": "SageMath 10.6",
   "language": "sage",
   "name": "sagemath"
  },
  "language_info": {
   "codemirror_mode": {
    "name": "ipython",
    "version": 3
   },
   "file_extension": ".py",
   "mimetype": "text/x-python",
   "name": "python",
   "nbconvert_exporter": "python",
   "pygments_lexer": "ipython3",
   "version": "3.12.11"
  }
 },
 "nbformat": 4,
 "nbformat_minor": 5
}
