{
 "cells": [
  {
   "cell_type": "code",
   "execution_count": null,
   "id": "e9da5bf9",
   "metadata": {},
   "outputs": [],
   "source": [
    "def predict_operating_degree_MQ(n, m):\n",
    "    return next(d for d in range(2,n+2) if sum((-1)^i * binomial(m, i) * binomial(n + d - 2*i, d- 2*i) for i in range(d+1)) <= 0)"
   ]
  },
  {
   "cell_type": "code",
   "execution_count": null,
   "id": "d0a6c502",
   "metadata": {},
   "outputs": [],
   "source": [
    "for n in range(5, 20):\n",
    "    m = 2*n\n",
    "    print(\"n: {}, m: {}, D: {}\".format(n, m, predict_operating_degree_MQ(n, m)))"
   ]
  }
 ],
 "metadata": {
  "kernelspec": {
   "display_name": "SageMath 10.6",
   "language": "sage",
   "name": "sagemath"
  },
  "language_info": {
   "codemirror_mode": {
    "name": "ipython",
    "version": 3
   },
   "file_extension": ".py",
   "mimetype": "text/x-python",
   "name": "python",
   "nbconvert_exporter": "python",
   "pygments_lexer": "ipython3",
   "version": "3.12.11"
  }
 },
 "nbformat": 4,
 "nbformat_minor": 5
}
