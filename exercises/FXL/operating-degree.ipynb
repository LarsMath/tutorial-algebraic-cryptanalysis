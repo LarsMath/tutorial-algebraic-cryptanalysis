{
 "cells": [
  {
   "cell_type": "code",
   "execution_count": 8,
   "id": "e9da5bf9",
   "metadata": {
    "vscode": {
     "languageId": "python"
    }
   },
   "outputs": [],
   "source": [
    "def predict_operating_degree_MQ(n, m):\n",
    "    return next(d for d in range(2,n+2) if sum((-1)^i * binomial(m, i) * binomial(n + d - 2*i, d- 2*i) for i in range(d+1)) <= 0)"
   ]
  },
  {
   "cell_type": "code",
   "execution_count": 9,
   "id": "d0a6c502",
   "metadata": {
    "vscode": {
     "languageId": "python"
    }
   },
   "outputs": [
    {
     "name": "stdout",
     "output_type": "stream",
     "text": [
      "n: 5, m: 10, D: 3\n",
      "n: 6, m: 12, D: 3\n",
      "n: 7, m: 14, D: 4\n",
      "n: 8, m: 16, D: 4\n",
      "n: 9, m: 18, D: 4\n",
      "n: 10, m: 20, D: 4\n",
      "n: 11, m: 22, D: 4\n",
      "n: 12, m: 24, D: 4\n",
      "n: 13, m: 26, D: 4\n",
      "n: 14, m: 28, D: 5\n",
      "n: 15, m: 30, D: 5\n",
      "n: 16, m: 32, D: 5\n",
      "n: 17, m: 34, D: 5\n",
      "n: 18, m: 36, D: 5\n",
      "n: 19, m: 38, D: 5\n"
     ]
    }
   ],
   "source": [
    "for n in range(5, 20):\n",
    "    m = 2*n\n",
    "    print(\"n: {}, m: {}, D: {}\".format(n, m, predict_operating_degree_MQ(n, m)))"
   ]
  }
 ],
 "metadata": {
  "kernelspec": {
   "display_name": "SageMath 10.6",
   "language": "sage",
   "name": "sagemath"
  },
  "language_info": {
   "codemirror_mode": {
    "name": "ipython",
    "version": 3
   },
   "file_extension": ".py",
   "mimetype": "text/x-python",
   "name": "sage",
   "nbconvert_exporter": "python",
   "pygments_lexer": "ipython3",
   "version": "3.12.11"
  }
 },
 "nbformat": 4,
 "nbformat_minor": 5
}
