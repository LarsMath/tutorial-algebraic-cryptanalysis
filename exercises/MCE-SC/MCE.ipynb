{
 "cells": [
  {
   "cell_type": "markdown",
   "id": "26fc03a6",
   "metadata": {},
   "source": [
    "# Breaking MCE with side channel information using Algebraic Cryptanalysis"
   ]
  },
  {
   "cell_type": "code",
   "execution_count": 98,
   "id": "7d7dad93",
   "metadata": {},
   "outputs": [],
   "source": [
    "# This puts the matrix code in canonical form\n",
    "# This means that we flatten the code to a k x nm generator matrix and echelonize this\n",
    "# Then we transform it back to a matrix code\n",
    "# Note that this canonical form is unique for a matrix code, independent of what generators are chosen\n",
    "def canonical_form(C):\n",
    "    F = C[0].base_ring()\n",
    "    n, m, k = (C[0].nrows(), C[0].ncols(), len(C))\n",
    "    G = matrix(F, k, n*m, [c.list() for c in C])\n",
    "    pivots = G.pivots()\n",
    "    assert len(pivots) == k\n",
    "\n",
    "    # We want to keep track of the transformation into canonical form to ease computation of the side-channel info\n",
    "    T = matrix(F, k, k, [[G[i][j] for j in pivots] for i in range(k)])^(-1)\n",
    "    G = T * G\n",
    "\n",
    "    return [matrix(F, n, m, [G[i][j] for j in range(n*m)]) for i in range(k)], T"
   ]
  },
  {
   "cell_type": "code",
   "execution_count": 99,
   "id": "0add1fed",
   "metadata": {},
   "outputs": [],
   "source": [
    "# This method applies the transformation (A, B) to the matrix code C and returns the resulting matrix code D\n",
    "# It is assumed that A, B are square and that all the dimensions check out\n",
    "# Feel free to use this method in your solution!\n",
    "def apply_transformation(C, A, B):\n",
    "    return canonical_form([A * c * B for c in C])"
   ]
  },
  {
   "cell_type": "code",
   "execution_count": 100,
   "id": "e3b58c2a",
   "metadata": {},
   "outputs": [],
   "source": [
    "# Generate a random MCE problem with a piece of side channel information\n",
    "# Doing the construction this way, we are sure that a solution exists\n",
    "# It might not be unique however!\n",
    "def generate_MCE_problem_with_hint(F, n, m, k):\n",
    "\n",
    "    # Generate the secret transformation\n",
    "    A = random_matrix(F, n, n)\n",
    "    B = random_matrix(F, m, m)\n",
    "    while A.is_singular() or B.is_singular(): # Make sure we are working with invertible matrices\n",
    "        A = random_matrix(F, n, n)\n",
    "        B = random_matrix(F, m, m)\n",
    "    \n",
    "    # Generating C randomly\n",
    "    C, _ = canonical_form([random_matrix(F, n, m) for _ in range(k)])\n",
    "\n",
    "    # Apply secret transformation to C to ensure solution\n",
    "    D, T = apply_transformation(C, A, B)\n",
    "\n",
    "    # Pick random coordinates for the side-channel information and transform it\n",
    "    v = random_vector(F, k)\n",
    "    w = T.transpose()^(-1) * v\n",
    "\n",
    "    return C, D, v, w"
   ]
  },
  {
   "cell_type": "markdown",
   "id": "7060cfc0",
   "metadata": {},
   "source": [
    "## Your solution"
   ]
  },
  {
   "cell_type": "code",
   "execution_count": 101,
   "id": "2085349e",
   "metadata": {},
   "outputs": [],
   "source": [
    "# This method takes two tensors (and some auxiliary information) and returns the transformation that transforms C to D\n",
    "# Be sure to read instructions.md for some guiding questions\n",
    "def break_MCE(F, C, D, v, w, n, m, k):\n",
    "    # Your code here\n",
    "    return random_matrix(F, n, n), random_matrix(F, m, m)"
   ]
  },
  {
   "cell_type": "markdown",
   "id": "83df97bf",
   "metadata": {},
   "source": [
    "## Test time"
   ]
  },
  {
   "cell_type": "code",
   "execution_count": 102,
   "id": "22be6886",
   "metadata": {},
   "outputs": [],
   "source": [
    "# This method checks whether your solution is correct\n",
    "# Since the problem might have multiple solutions we just check if it is a valid transformation\n",
    "# It does not necessarily have to be the same one that was discarded during generation\n",
    "# In the end, this is what is cryptographically relevant as well!\n",
    "def check_solution(C, D, A, B):\n",
    "    D2, _ = apply_transformation(C, A, B)\n",
    "    return D == D2"
   ]
  },
  {
   "cell_type": "code",
   "execution_count": 103,
   "id": "5e4a66b9",
   "metadata": {},
   "outputs": [
    {
     "data": {
      "text/plain": [
       "False"
      ]
     },
     "execution_count": 103,
     "metadata": {},
     "output_type": "execute_result"
    }
   ],
   "source": [
    "# Feel free to pick any parameters you want!\n",
    "q = 31\n",
    "n = 5\n",
    "m = 4\n",
    "k = 3\n",
    "\n",
    "# It should not be necessary to edit the calls below\n",
    "# If you do, make sure you do not accidently use the solution\n",
    "F = GF(q)\n",
    "C, D, v, w = generate_MCE_problem_with_hint(F, n, m, k)\n",
    "A, B = break_MCE(F, C, D, v, w, n, m, k)\n",
    "check_solution(C, D, A, B)"
   ]
  }
 ],
 "metadata": {
  "kernelspec": {
   "display_name": "SageMath 10.6",
   "language": "sage",
   "name": "sagemath"
  },
  "language_info": {
   "codemirror_mode": {
    "name": "ipython",
    "version": 3
   },
   "file_extension": ".py",
   "mimetype": "text/x-python",
   "name": "python",
   "nbconvert_exporter": "python",
   "pygments_lexer": "ipython3",
   "version": "3.12.11"
  }
 },
 "nbformat": 4,
 "nbformat_minor": 5
}
