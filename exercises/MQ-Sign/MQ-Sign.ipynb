{
 "cells": [
  {
   "cell_type": "markdown",
   "id": "26fc03a6",
   "metadata": {},
   "source": [
    "# Breaking MQ-Sign round 1 using algebraic cryptanalysis"
   ]
  },
  {
   "cell_type": "code",
   "execution_count": null,
   "id": "0add1fed",
   "metadata": {},
   "outputs": [],
   "source": [
    "# Params setup\n",
    "\n",
    "q = 2^8\n",
    "v = 72\n",
    "m = 46\n",
    "\n",
    "__SEC_LEVEL__ = 1\n",
    "\n",
    "if __SEC_LEVEL__ == 3:\n",
    "    v = 112\n",
    "    m = 72\n",
    "\n",
    "if __SEC_LEVEL__ == 5:\n",
    "    v = 148\n",
    "    m = 96\n",
    "\n",
    "n = v + m\n",
    "K = GF(q)\n",
    "\n",
    "# Functions for MQ-Sign keygen\n",
    "\n",
    "def V2(i, s):\n",
    "    return ((((i+1)+(s+1)-1) % v))\n",
    "\n",
    "def O2(i, s):\n",
    "    return ((((i+1)+(s+1)-2) % m) + v)\n",
    "\n",
    "def Upper(M, nn):\n",
    "  for i in range(0, nn):\n",
    "      for j in range(i, nn):\n",
    "          M[i, j] += M[j, i]\n",
    "          M[j, i] = 0\n",
    "  return M\n",
    "\n",
    "def MQSignCentralMap():\n",
    "    F = []\n",
    "    for s in range(0, m):\n",
    "        M = zero_matrix(K, n, n)\n",
    "        for i in range(0, v):\n",
    "            M[i, V2(i, s)] = K.random_element()\n",
    "            M[i, O2(i, s)] = K.random_element()\n",
    "        M = Upper(M, n)\n",
    "        F.append(M)\n",
    "    return F\n",
    "\n",
    "def UpperTriangularS():\n",
    "    S = block_matrix([ [identity_matrix(K,v), random_matrix(K, v, m)], [zero_matrix(K,m,v), identity_matrix(K,m)] ])\n",
    "    return S\n",
    "\n",
    "def GetPublicKey(F, S):\n",
    "  S = S.submatrix(0, v, v, m)\n",
    "  F1 = [F[s].submatrix(0, 0, v, v) for s in range(0, m)]\n",
    "  F2 = [F[s].submatrix(0, v, v, m) for s in range(0, m)]\n",
    "  P1 = [F1[s] for s in range(0, m)]\n",
    "  P2 = [(F1[s] + F1[s].transpose())*S + F2[s] for s in range(0, m)]\n",
    "  P3 = [Upper(S.transpose()*F1[s]*S+S.transpose()*F2[s], m) for s in range(0, m)]\n",
    "  P = [block_matrix([[P1[s], P2[s]], [zero_matrix(K, m, v), P3[s]]]) for s in range(0, m)]\n",
    "  return P\n",
    "\n",
    "\n",
    "\n",
    "\n",
    "# MAIN\n",
    "\n",
    "F = MQSignCentralMap()\n",
    "S = UpperTriangularS()\n",
    "P = GetPublicKey(F, S)\n",
    "\n",
    "S_sol = GetSolution(P)\n",
    "print(S_sol == S.submatrix(0, v, v, m))\n"
   ]
  },
  {
   "cell_type": "markdown",
   "id": "7060cfc0",
   "metadata": {},
   "source": [
    "## Your solution"
   ]
  },
  {
   "cell_type": "code",
   "execution_count": null,
   "id": "e3b58c2a",
   "metadata": {},
   "outputs": [],
   "source": [
    "# Functions used for the attack\n",
    "# Starting only from an MQ-Sign public key, try to find the value of S in the upper-right corner.\n",
    "# As per the equivalent keys optimization, this is a v by m matrix. \n",
    "def GetSolution(P):\n",
    "    \n",
    "    return S_sol\n"
   ]
  },
  {
   "cell_type": "markdown",
   "id": "83df97bf",
   "metadata": {},
   "source": [
    "## Test time"
   ]
  },
  {
   "cell_type": "code",
   "execution_count": null,
   "id": "22be6886",
   "metadata": {},
   "outputs": [],
   "source": [
    "F = MQSignCentralMap()\n",
    "S = UpperTriangularS()\n",
    "P = GetPublicKey(F, S)\n",
    "\n",
    "S_sol = GetSolution(P)\n",
    "print(S_sol == S.submatrix(0, v, v, m))"
   ]
  }
 ],
 "metadata": {
  "kernelspec": {
   "display_name": "SageMath 10.6",
   "language": "sage",
   "name": "sagemath"
  },
  "language_info": {
   "codemirror_mode": {
    "name": "ipython",
    "version": 3
   },
   "file_extension": ".py",
   "mimetype": "text/x-python",
   "name": "python",
   "nbconvert_exporter": "python",
   "pygments_lexer": "ipython3",
   "version": "3.12.11"
  }
 },
 "nbformat": 4,
 "nbformat_minor": 5
}
