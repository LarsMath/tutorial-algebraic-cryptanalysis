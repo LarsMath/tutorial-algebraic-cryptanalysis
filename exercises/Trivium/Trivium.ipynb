{
 "cells": [
  {
   "cell_type": "markdown",
   "id": "26fc03a6",
   "metadata": {},
   "source": [
    "# Modelling the Trivium stream cipher algebraically"
   ]
  },
  {
   "cell_type": "code",
   "execution_count": null,
   "id": "7d7dad93",
   "metadata": {},
   "outputs": [],
   "source": [
    "### This is a pair of initial state value and the keystream output\n",
    "### of Trivium after 300 rounds of initialization. \n",
    "nb_rounds = 300\n",
    "keystream_str = \"11000110100011011001000100101100010001010101011000011100001010100111001110111101001100000110110000111000100001111111111000001001011101110110110000010110110000001100011100101100000110010000000011111111\"\n",
    "initial_state = \"000111111000101000100001100010111101111110111001001101110001111110111011011010100000000000000010100100111000101011110100000010101101101110001000010100001101010001111001010000000000000000000000000000000000000000000000000000000000000000000000000000000000000000000000000000000000000000000111\"\n"
   ]
  },
  {
   "cell_type": "markdown",
   "id": "7060cfc0",
   "metadata": {},
   "source": [
    "## Implementing Trivium"
   ]
  },
  {
   "cell_type": "code",
   "execution_count": null,
   "id": "2085349e",
   "metadata": {},
   "outputs": [],
   "source": [
    "### You can first implement the trivium keystream generation function"
   ]
  },
  {
   "cell_type": "markdown",
   "id": "98652e27",
   "metadata": {},
   "source": [
    "## Generate Trivium modeling"
   ]
  },
  {
   "cell_type": "code",
   "execution_count": null,
   "id": "062c40a6",
   "metadata": {},
   "outputs": [],
   "source": [
    "### You can implement here the algebraic modeling of Trivium"
   ]
  }
 ],
 "metadata": {
  "kernelspec": {
   "display_name": "SageMath 10.6",
   "language": "sage",
   "name": "sagemath"
  },
  "language_info": {
   "codemirror_mode": {
    "name": "ipython",
    "version": 3
   },
   "file_extension": ".py",
   "mimetype": "text/x-python",
   "name": "python",
   "nbconvert_exporter": "python",
   "pygments_lexer": "ipython3",
   "version": "3.12.11"
  }
 },
 "nbformat": 4,
 "nbformat_minor": 5
}
