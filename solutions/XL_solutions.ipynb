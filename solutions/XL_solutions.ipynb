{
 "cells": [
  {
   "cell_type": "markdown",
   "id": "2c0b35db",
   "metadata": {},
   "source": [
    "# The XL algorithm (solutions)\n",
    "This notebook is part of the exercise on XL/FXL.\n",
    "Here we made the outline for the implementation with some details missing.\n",
    "Fill in the missing functionality and test your implementation.\n",
    "See the accompanying markdown file `FXL-exercise.md` for more details."
   ]
  },
  {
   "cell_type": "markdown",
   "id": "4ca13198",
   "metadata": {},
   "source": [
    "### Exercise: Implement the functions in the cells below"
   ]
  },
  {
   "cell_type": "code",
   "execution_count": null,
   "id": "4a1b3adb",
   "metadata": {},
   "outputs": [],
   "source": [
    "# Should return all monomials of R of degree less or equal than D\n",
    "# It might be wise to sort the monomials to your liking\n",
    "def monomials_of_degree_le(R, D):\n",
    "    return sum([R.monomials_of_degree(i) for i in range(D+1)], [])[::-1]"
   ]
  },
  {
   "cell_type": "code",
   "execution_count": null,
   "id": "fa4e4f84",
   "metadata": {},
   "outputs": [],
   "source": [
    "\n",
    "# Should return all products f * m, such that deg(f * m) <= D, with f a system polynomial and m a monomial of R\n",
    "def augmented_polynomials(R, fs, D):\n",
    "    return sorted([f * m for f in fs for m in monomials_of_degree_le(R, D - f.degree())])[::-1]"
   ]
  },
  {
   "cell_type": "code",
   "execution_count": null,
   "id": "8e6c73cf",
   "metadata": {},
   "outputs": [],
   "source": [
    "# Given the monomials by which the columns are indexed and the augmented polynomials by which the rows are indexed\n",
    "# Return the Macaulay matrix entries as a two-dimensional array\n",
    "def macaulay_matrix_entries(F, monomials, aug_polys):\n",
    "    return [[f.monomial_coefficient(mon) for mon in monomials] for f in aug_polys]"
   ]
  },
  {
   "cell_type": "code",
   "execution_count": null,
   "id": "3e8ee028",
   "metadata": {},
   "outputs": [],
   "source": [
    "\n",
    "# Retrieve a solution from a right kernel vector of the Macaulay matrix\n",
    "# Hint: this is dependent on the order of the monomials (i.e. the columns)\n",
    "def kernel_vector_to_solution(n, v):\n",
    "    return v[-(n+1):-1]/v[-1]"
   ]
  },
  {
   "cell_type": "markdown",
   "id": "3a51ec7f",
   "metadata": {},
   "source": [
    "### As part of the XL algorithm"
   ]
  },
  {
   "cell_type": "code",
   "execution_count": null,
   "id": "0701bc97-641b-4dcb-9d11-f9b0548530d5",
   "metadata": {},
   "outputs": [],
   "source": [
    "# Note that n, m are implied by R, fs\n",
    "\n",
    "# Build the Macaulay matrix for fs in degree D\n",
    "def generate_Macaulay_matrix(R, fs, D):\n",
    "    F = R.base_ring()\n",
    "\n",
    "    monomials = monomials_of_degree_le(R, D)\n",
    "    aug_polys = augmented_polynomials(R, fs, D)\n",
    "\n",
    "    entries = macaulay_matrix_entries(F, monomials, aug_polys)\n",
    "\n",
    "    Mac_D = matrix(F, len(aug_polys), len(monomials), entries)\n",
    "\n",
    "    return Mac_D"
   ]
  },
  {
   "cell_type": "code",
   "execution_count": null,
   "id": "b43cd90b",
   "metadata": {},
   "outputs": [],
   "source": [
    "# Run the XL algorithm in degree D for such a system\n",
    "def XL(R, fs, D):\n",
    "    mac_D = generate_Macaulay_matrix(R, fs, D)\n",
    "\n",
    "    K = mac_D.right_kernel()\n",
    "\n",
    "    # Check that we get a unique solution before proceeding, this is just for simplicity\n",
    "    assert K.dimension() == 1 \n",
    "\n",
    "    solution = kernel_vector_to_solution(len(R.gens()), K.basis()[0])\n",
    "\n",
    "    return solution"
   ]
  },
  {
   "cell_type": "markdown",
   "id": "a315d931",
   "metadata": {},
   "source": [
    "### Time to test our implementation"
   ]
  },
  {
   "cell_type": "code",
   "execution_count": null,
   "id": "51a6dae2",
   "metadata": {},
   "outputs": [],
   "source": [
    "# This generates a random MQ problem in the Ring R = F[x1, ..., xn] of m quadratic equations.\n",
    "# Note the field F and number of variables n are already defined by R.\n",
    "def generate_MQ_problem(R, m):\n",
    "    F = R.base_ring()\n",
    "    n = len(R.gens())\n",
    "    quadratic_monomials = R.monomials_of_degree(2)\n",
    "    linear_monomials = R.monomials_of_degree(1)\n",
    "    monomials = quadratic_monomials + linear_monomials\n",
    "\n",
    "    # Generate random polynomials\n",
    "    fs = [sum(F.random_element() * mon for mon in monomials) for _ in range(m)]\n",
    "\n",
    "    # Generate random solution\n",
    "    solution = [F.random_element() for _ in range(n)]\n",
    "\n",
    "    # Change the constant to match the solution\n",
    "    fs = [f - f(solution) for f in fs]\n",
    "\n",
    "    return fs, solution"
   ]
  },
  {
   "cell_type": "code",
   "execution_count": null,
   "id": "fa8ac22f",
   "metadata": {},
   "outputs": [],
   "source": [
    "q = 7\n",
    "n = 12\n",
    "m = 30\n",
    "\n",
    "F = GF(q)\n",
    "R = PolynomialRing(F, n, 'x', order=\"degrevlex\")"
   ]
  },
  {
   "cell_type": "code",
   "execution_count": null,
   "id": "ae1c7f48",
   "metadata": {},
   "outputs": [],
   "source": [
    "fs, solution = generate_MQ_problem(R, m)\n",
    "sol = XL(R, fs, 4)\n",
    "\n",
    "# Check correctness of the solution\n",
    "assert all(f(list(sol)) == 0 for f in fs)\n",
    "\n",
    "print(\"Planted solution:\", solution)\n",
    "print(\"Found   solution:\", sol)"
   ]
  },
  {
   "cell_type": "markdown",
   "id": "bfcab7e7",
   "metadata": {},
   "source": [
    "## Solutions FXL\n",
    "\n",
    "We need to redefine XL in order to allow for systems without solutions"
   ]
  },
  {
   "cell_type": "code",
   "execution_count": null,
   "id": "88a91481",
   "metadata": {},
   "outputs": [],
   "source": [
    "\n",
    "def XL(R, fs, D):\n",
    "    mac_D = generate_Macaulay_matrix(R, fs, D)\n",
    "    K = mac_D.right_kernel()\n",
    "    if K.dimension() < 1:\n",
    "        return False\n",
    "    \n",
    "    return kernel_vector_to_solution(len(R.gens()), K.basis()[0])"
   ]
  },
  {
   "cell_type": "code",
   "execution_count": null,
   "id": "8c4140ec",
   "metadata": {},
   "outputs": [],
   "source": [
    "def FXL(R, fs, D, k):\n",
    "    n = len(R.gens())\n",
    "    F = R.base_ring()\n",
    "    S = PolynomialRing(F, n-k, 'y', order='degrevlex')\n",
    "\n",
    "    for g in VectorSpace(F, k):\n",
    "        phi = R.hom(list(S.gens()) + list(g))\n",
    "        fs_S = [phi(f) for f in fs]\n",
    "        solution = XL(S, fs_S, D)\n",
    "        if solution != False:\n",
    "            return list(solution) + list(g)\n",
    "    "
   ]
  },
  {
   "cell_type": "code",
   "execution_count": null,
   "id": "c0e3ae7e",
   "metadata": {},
   "outputs": [],
   "source": [
    "fs, solution = generate_MQ_problem(R, m)\n",
    "sol = FXL(R, fs, 3, 2)\n",
    "\n",
    "# Check correctness of the solution\n",
    "assert all(f(list(sol)) == 0 for f in fs)\n",
    "\n",
    "print(\"Planted solution:\", solution)\n",
    "print(\"Found   solution:\", sol)"
   ]
  }
 ],
 "metadata": {
  "kernelspec": {
   "display_name": "SageMath 10.6",
   "language": "sage",
   "name": "sagemath"
  },
  "language_info": {
   "codemirror_mode": {
    "name": "ipython",
    "version": 3
   },
   "file_extension": ".py",
   "mimetype": "text/x-python",
   "name": "python",
   "nbconvert_exporter": "python",
   "pygments_lexer": "ipython3",
   "version": "3.12.11"
  }
 },
 "nbformat": 4,
 "nbformat_minor": 5
}
